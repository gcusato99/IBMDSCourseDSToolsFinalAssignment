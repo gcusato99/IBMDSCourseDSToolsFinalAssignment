{
 "cells": [
  {
   "cell_type": "markdown",
   "id": "9752e815-caf6-4779-a124-833a5ee6d32b",
   "metadata": {},
   "source": [
    "# Data Science Tools and Ecosystem"
   ]
  },
  {
   "cell_type": "markdown",
   "id": "4dda0ef9-321b-495b-a0b8-94bc6b942310",
   "metadata": {},
   "source": [
    "Objectives:\n",
    "* List popular Data Science languages\n",
    "* List commonly used libraries used in Data Science\n",
    "* Create a table with popular Data Science Tools\n",
    "* Evaluate simple arithmetic expressions"
   ]
  },
  {
   "cell_type": "markdown",
   "id": "d6a4b3db-a721-424f-be7f-3ee2bb9caf8d",
   "metadata": {},
   "source": [
    "In this notebook, Data Science Tools and Ecosystems are summarized"
   ]
  },
  {
   "cell_type": "markdown",
   "id": "39fdeee5-c74a-4225-ab2e-1d64faec7f2b",
   "metadata": {},
   "source": [
    "Some of the popular languages that Data Scientists use are:\n",
    "1. Python\n",
    "2. JavaScript\n",
    "3. SQL\n",
    "4. R"
   ]
  },
  {
   "cell_type": "markdown",
   "id": "c38961b0-3445-4aab-9cfe-9368e30ac837",
   "metadata": {},
   "source": [
    "Some of the commonly used libraries used by Data Scientists include:\n",
    "1. Pandas\n",
    "2. Numpy\n",
    "3. scikit-learn\n",
    "4. Matplotlib"
   ]
  },
  {
   "cell_type": "markdown",
   "id": "e32ea57d-31e9-4abd-976e-c98c5dabd120",
   "metadata": {},
   "source": [
    "|Data Science Tools|\n",
    "|:--:|\n",
    "|Hadoop|\n",
    "|Spark|\n",
    "|Jupyter|\n",
    "|R|"
   ]
  },
  {
   "cell_type": "markdown",
   "id": "9520041e-f1b1-47d7-8282-620bdeec2f36",
   "metadata": {},
   "source": [
    "### Below are a few examples of evaluating arithmetic expressions in Python."
   ]
  },
  {
   "cell_type": "code",
   "execution_count": 2,
   "id": "84dcddba-885c-4035-ab3f-16d125b3d7bf",
   "metadata": {
    "tags": []
   },
   "outputs": [
    {
     "data": {
      "text/plain": [
       "17"
      ]
     },
     "execution_count": 2,
     "metadata": {},
     "output_type": "execute_result"
    }
   ],
   "source": [
    "#This a simple arithmetic expression to mutiply then add integers\n",
    "(3*4)+5"
   ]
  },
  {
   "cell_type": "code",
   "execution_count": 3,
   "id": "d749743e-6695-4aff-b25f-ee1bddd329c2",
   "metadata": {
    "tags": []
   },
   "outputs": [
    {
     "data": {
      "text/plain": [
       "3.3333333333333335"
      ]
     },
     "execution_count": 3,
     "metadata": {},
     "output_type": "execute_result"
    }
   ],
   "source": [
    "#This will convert 200 minutes to hours by diving by 60\n",
    "200/60"
   ]
  },
  {
   "cell_type": "markdown",
   "id": "f9e4fb36-95a4-408e-90f8-8fb78536f814",
   "metadata": {},
   "source": [
    "## Author\n",
    "Gregorio Cusato"
   ]
  }
 ],
 "metadata": {
  "kernelspec": {
   "display_name": "Python",
   "language": "python",
   "name": "conda-env-python-py"
  },
  "language_info": {
   "codemirror_mode": {
    "name": "ipython",
    "version": 3
   },
   "file_extension": ".py",
   "mimetype": "text/x-python",
   "name": "python",
   "nbconvert_exporter": "python",
   "pygments_lexer": "ipython3",
   "version": "3.7.12"
  }
 },
 "nbformat": 4,
 "nbformat_minor": 5
}
